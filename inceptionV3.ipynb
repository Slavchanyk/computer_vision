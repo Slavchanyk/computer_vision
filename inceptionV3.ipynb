{
  "nbformat": 4,
  "nbformat_minor": 0,
  "metadata": {
    "colab": {
      "name": "CV_lab3.ipynb",
      "provenance": [],
      "collapsed_sections": []
    },
    "kernelspec": {
      "display_name": "Python 3",
      "name": "python3"
    },
    "language_info": {
      "name": "python"
    }
  },
  "cells": [
    {
      "cell_type": "code",
      "metadata": {
        "id": "6H-G89KsOQPr"
      },
      "source": [
        "import tensorflow as tf\n",
        "import numpy as np\n",
        "import matplotlib.pyplot as plt\n",
        "from keras.callbacks import ModelCheckpoint\n",
        "from keras.models import Model\n",
        "from keras.layers import Input, Conv2D, BatchNormalization, MaxPool2D, Activation, Flatten, Dense, Dropout, GlobalAveragePooling2D\n",
        "import cv2"
      ],
      "execution_count": null,
      "outputs": []
    },
    {
      "cell_type": "code",
      "metadata": {
        "id": "-tDPVditOUVY"
      },
      "source": [
        "(X_train, y_train), (X_test, y_test) = tf.keras.datasets.fashion_mnist.load_data()"
      ],
      "execution_count": null,
      "outputs": []
    },
    {
      "cell_type": "code",
      "metadata": {
        "colab": {
          "base_uri": "https://localhost:8080/"
        },
        "id": "edkADUiDr7YD",
        "outputId": "2b9eb6c8-c372-4882-eb24-e3c42188c085"
      },
      "source": [
        "print(\"x_train shape:\", X_train.shape, \"y_train shape:\", y_train.shape)\n",
        "print(\"x_test shape:\", X_test.shape, \"y_test shape:\", y_test.shape)"
      ],
      "execution_count": null,
      "outputs": [
        {
          "output_type": "stream",
          "text": [
            "x_train shape: (60000, 28, 28) y_train shape: (60000,)\n",
            "x_test shape: (10000, 28, 28) y_test shape: (10000,)\n"
          ],
          "name": "stdout"
        }
      ]
    },
    {
      "cell_type": "code",
      "metadata": {
        "id": "phxocgOqpyFf"
      },
      "source": [
        "def reshape(X, size_x, size_y):\n",
        "  X_reshaped = []\n",
        "  for image in X:\n",
        "    resized_image = cv2.resize(image, (size_x,size_y))\n",
        "    X_reshaped.append(cv2.merge((resized_image, resized_image, resized_image)))\n",
        "  return np.asarray(X_reshaped).astype('float32') / 255"
      ],
      "execution_count": null,
      "outputs": []
    },
    {
      "cell_type": "code",
      "metadata": {
        "id": "R16SZ6uTzAKS"
      },
      "source": [
        "w, h = 75,75\n",
        "\n",
        "X_train = reshape(X_train, w, h)\n",
        "X_test = reshape(X_test, w, h)"
      ],
      "execution_count": null,
      "outputs": []
    },
    {
      "cell_type": "code",
      "metadata": {
        "colab": {
          "base_uri": "https://localhost:8080/"
        },
        "id": "zFCdNLUNOUfm",
        "outputId": "8169616f-ac05-4f3e-8719-8924b5c79085"
      },
      "source": [
        "print(\"x_train shape:\", X_train.shape, \"y_train shape:\", y_train.shape)\n",
        "print(\"x_test shape:\", X_test.shape, \"y_test shape:\", y_test.shape)"
      ],
      "execution_count": null,
      "outputs": [
        {
          "output_type": "stream",
          "text": [
            "x_train shape: (60000, 75, 75, 3) y_train shape: (60000,)\n",
            "x_test shape: (10000, 75, 75, 3) y_test shape: (10000,)\n"
          ],
          "name": "stdout"
        }
      ]
    },
    {
      "cell_type": "code",
      "metadata": {
        "colab": {
          "base_uri": "https://localhost:8080/"
        },
        "id": "dfaUQLttO1tW",
        "outputId": "79519feb-c0a0-434f-e975-fdcc6d5f23f5"
      },
      "source": [
        "X_train = X_train.reshape(X_train.shape[0], w, h, 3)\n",
        "X_test = X_test.reshape(X_test.shape[0], w, h, 3)\n",
        "\n",
        "y_train = tf.keras.utils.to_categorical(y_train, 10)\n",
        "y_test = tf.keras.utils.to_categorical(y_test, 10)\n",
        "\n",
        "print(X_train.shape[0], 'train set')\n",
        "print(X_test.shape[0], 'test set')\n"
      ],
      "execution_count": null,
      "outputs": [
        {
          "output_type": "stream",
          "text": [
            "60000 train set\n",
            "10000 test set\n"
          ],
          "name": "stdout"
        }
      ]
    },
    {
      "cell_type": "code",
      "metadata": {
        "colab": {
          "base_uri": "https://localhost:8080/"
        },
        "id": "82zRerz8RXgB",
        "outputId": "b78a59fb-17dc-4b7c-8c6b-dbce002c940a"
      },
      "source": [
        "base_model = tf.keras.applications.InceptionV3(weights='imagenet', \n",
        "                                include_top=False, \n",
        "                                input_shape=X_train[0].shape)\n",
        "base_model.trainable = False\n",
        "\n",
        "add_model = tf.keras.Sequential()\n",
        "add_model.add(base_model)\n",
        "add_model.add(GlobalAveragePooling2D())\n",
        "add_model.add(tf.keras.layers.Dense(2048, activation='relu'))\n",
        "add_model.add(tf.keras.layers.Dense(500, activation='relu'))\n",
        "add_model.add(Dense(10, activation='softmax'))\n",
        "\n",
        "model = add_model\n",
        "model.compile(loss='categorical_crossentropy', \n",
        "              optimizer=\"adam\",\n",
        "              metrics=['accuracy'])\n",
        "model.summary()"
      ],
      "execution_count": null,
      "outputs": [
        {
          "output_type": "stream",
          "text": [
            "Model: \"sequential\"\n",
            "_________________________________________________________________\n",
            "Layer (type)                 Output Shape              Param #   \n",
            "=================================================================\n",
            "inception_v3 (Functional)    (None, 1, 1, 2048)        21802784  \n",
            "_________________________________________________________________\n",
            "global_average_pooling2d (Gl (None, 2048)              0         \n",
            "_________________________________________________________________\n",
            "dense (Dense)                (None, 2048)              4196352   \n",
            "_________________________________________________________________\n",
            "dense_1 (Dense)              (None, 1000)              2049000   \n",
            "_________________________________________________________________\n",
            "dense_2 (Dense)              (None, 10)                10010     \n",
            "=================================================================\n",
            "Total params: 28,058,146\n",
            "Trainable params: 6,255,362\n",
            "Non-trainable params: 21,802,784\n",
            "_________________________________________________________________\n"
          ],
          "name": "stdout"
        }
      ]
    },
    {
      "cell_type": "code",
      "metadata": {
        "colab": {
          "base_uri": "https://localhost:8080/"
        },
        "id": "i5tZbzGLO11Y",
        "outputId": "7c24a0be-e7ab-4164-b9f6-67dc9f807adc"
      },
      "source": [
        "model.fit(np.array(X_train),\n",
        "         np.array(y_train),\n",
        "         batch_size=64,\n",
        "         epochs=10,\n",
        "         validation_data=(np.array(X_test), np.array(y_test)))"
      ],
      "execution_count": null,
      "outputs": [
        {
          "output_type": "stream",
          "text": [
            "Epoch 1/10\n",
            "938/938 [==============================] - 594s 629ms/step - loss: 0.6889 - accuracy: 0.7729 - val_loss: 0.4445 - val_accuracy: 0.8357\n",
            "Epoch 2/10\n",
            "938/938 [==============================] - 593s 632ms/step - loss: 0.3805 - accuracy: 0.8600 - val_loss: 0.4030 - val_accuracy: 0.8513\n",
            "Epoch 3/10\n",
            "938/938 [==============================] - 596s 635ms/step - loss: 0.3170 - accuracy: 0.8808 - val_loss: 0.4233 - val_accuracy: 0.8526\n",
            "Epoch 4/10\n",
            "938/938 [==============================] - 592s 631ms/step - loss: 0.2698 - accuracy: 0.8990 - val_loss: 0.4412 - val_accuracy: 0.8566\n",
            "Epoch 5/10\n",
            "938/938 [==============================] - 605s 645ms/step - loss: 0.2321 - accuracy: 0.9121 - val_loss: 0.4743 - val_accuracy: 0.8593\n",
            "Epoch 6/10\n",
            "938/938 [==============================] - 606s 647ms/step - loss: 0.1946 - accuracy: 0.9249 - val_loss: 0.4800 - val_accuracy: 0.8595\n",
            "Epoch 7/10\n",
            "938/938 [==============================] - 610s 650ms/step - loss: 0.1679 - accuracy: 0.9361 - val_loss: 0.5375 - val_accuracy: 0.8548\n",
            "Epoch 8/10\n",
            "938/938 [==============================] - 605s 645ms/step - loss: 0.1455 - accuracy: 0.9462 - val_loss: 0.5568 - val_accuracy: 0.8491\n",
            "Epoch 9/10\n",
            "938/938 [==============================] - 594s 633ms/step - loss: 0.1242 - accuracy: 0.9541 - val_loss: 0.6804 - val_accuracy: 0.8532\n",
            "Epoch 10/10\n",
            "938/938 [==============================] - 594s 634ms/step - loss: 0.1112 - accuracy: 0.9597 - val_loss: 0.7012 - val_accuracy: 0.8565\n"
          ],
          "name": "stdout"
        },
        {
          "output_type": "execute_result",
          "data": {
            "text/plain": [
              "<tensorflow.python.keras.callbacks.History at 0x7f6b981f6910>"
            ]
          },
          "metadata": {
            "tags": []
          },
          "execution_count": 9
        }
      ]
    },
    {
      "cell_type": "code",
      "metadata": {
        "id": "v7O_4ysJ13dE"
      },
      "source": [
        ""
      ],
      "execution_count": null,
      "outputs": []
    }
  ]
}